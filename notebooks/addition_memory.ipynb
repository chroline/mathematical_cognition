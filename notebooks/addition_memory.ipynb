{
 "cells": [
  {
   "cell_type": "code",
   "execution_count": null,
   "outputs": [],
   "source": [
    "from program.utils import decimal_to_binary_array"
   ],
   "metadata": {
    "collapsed": false
   },
   "id": "f5414d8ac9f24a58"
  },
  {
   "cell_type": "code",
   "execution_count": null,
   "id": "initial_id",
   "metadata": {
    "collapsed": true
   },
   "outputs": [],
   "source": [
    "import numpy as np\n",
    "\n",
    "training_data = np.array([\n",
    "    {\n",
    "        \"input\": np.concatenate((decimal_to_binary_array(num1), decimal_to_binary_array(num2))),\n",
    "        \"output\": decimal_to_binary_array(num1 + num2)\n",
    "    } for num1 in range(1, 10) for num2 in range(1, 10)])\n",
    "training_data = np.tile(training_data, 10)"
   ]
  },
  {
   "cell_type": "code",
   "execution_count": null,
   "outputs": [],
   "source": [
    "X_train = np.array([example[\"input\"] for example in training_data])\n",
    "y_train = np.array([example[\"output\"] for example in training_data])"
   ],
   "metadata": {
    "collapsed": false
   },
   "id": "7d93e779e04de2a0"
  },
  {
   "cell_type": "code",
   "execution_count": null,
   "outputs": [],
   "source": [
    "import autokeras as ak\n",
    "\n",
    "# Initialize AutoKeras regressor\n",
    "reg = ak.StructuredDataRegressor(max_trials=10)\n",
    "\n",
    "# Search for the best model architecture and hyperparameters\n",
    "reg.fit(X_train, y_train, epochs=100, batch_size=20)"
   ],
   "metadata": {
    "collapsed": false
   },
   "id": "fb87c0ec800aba50"
  },
  {
   "cell_type": "code",
   "execution_count": null,
   "outputs": [],
   "source": [
    "best_model = reg.export_model()\n",
    "best_model.save(\"../trained_models/addition_memory\", save_format=\"tf\")"
   ],
   "metadata": {
    "collapsed": false
   },
   "id": "9e39f3ee6c71c93c"
  }
 ],
 "metadata": {
  "kernelspec": {
   "display_name": "Python 3",
   "language": "python",
   "name": "python3"
  },
  "language_info": {
   "codemirror_mode": {
    "name": "ipython",
    "version": 2
   },
   "file_extension": ".py",
   "mimetype": "text/x-python",
   "name": "python",
   "nbconvert_exporter": "python",
   "pygments_lexer": "ipython2",
   "version": "2.7.6"
  }
 },
 "nbformat": 4,
 "nbformat_minor": 5
}
