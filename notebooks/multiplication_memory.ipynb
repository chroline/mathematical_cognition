{
 "cells": [
  {
   "cell_type": "code",
   "execution_count": 216,
   "outputs": [],
   "source": [
    "from program.utils import decimal_to_binary_array"
   ],
   "metadata": {
    "collapsed": false,
    "ExecuteTime": {
     "end_time": "2024-01-05T22:41:55.465687Z",
     "start_time": "2024-01-05T22:41:55.461379Z"
    }
   },
   "id": "f5414d8ac9f24a58"
  },
  {
   "cell_type": "code",
   "execution_count": 217,
   "id": "initial_id",
   "metadata": {
    "collapsed": true,
    "ExecuteTime": {
     "end_time": "2024-01-05T22:41:55.474759Z",
     "start_time": "2024-01-05T22:41:55.467119Z"
    }
   },
   "outputs": [],
   "source": [
    "import numpy as np\n",
    "\n",
    "training_data = np.array([\n",
    "    {\n",
    "        \"input\": np.concatenate((decimal_to_binary_array(multiplier), decimal_to_binary_array(multiplicand))),\n",
    "        \"output\": decimal_to_binary_array(multiplier * multiplicand)\n",
    "    } for multiplier in range(1, 10) for multiplicand in range(1, 10)])\n",
    "training_data = np.tile(training_data, 10)"
   ]
  },
  {
   "cell_type": "code",
   "execution_count": 218,
   "outputs": [],
   "source": [
    "X_train = np.array([example[\"input\"] for example in training_data])\n",
    "y_train = np.array([example[\"output\"] for example in training_data])"
   ],
   "metadata": {
    "collapsed": false,
    "ExecuteTime": {
     "end_time": "2024-01-05T22:41:55.483925Z",
     "start_time": "2024-01-05T22:41:55.474162Z"
    }
   },
   "id": "7d93e779e04de2a0"
  },
  {
   "cell_type": "code",
   "execution_count": 219,
   "outputs": [
    {
     "name": "stdout",
     "output_type": "stream",
     "text": [
      "Trial 10 Complete [00h 00m 04s]\n",
      "val_loss: 0.14285632967948914\n",
      "\n",
      "Best val_loss So Far: 8.881081157596782e-05\n",
      "Total elapsed time: 00h 00m 42s\n"
     ]
    },
    {
     "name": "stderr",
     "output_type": "stream",
     "text": [
      "WARNING:absl:At this time, the v2.11+ optimizer `tf.keras.optimizers.Adam` runs slowly on M1/M2 Macs, please use the legacy Keras optimizer instead, located at `tf.keras.optimizers.legacy.Adam`.\n"
     ]
    },
    {
     "name": "stdout",
     "output_type": "stream",
     "text": [
      "Epoch 1/50\n",
      "81/81 [==============================] - 0s 708us/step - loss: 0.1813 - mean_squared_error: 0.1813\n",
      "Epoch 2/50\n",
      "81/81 [==============================] - 0s 533us/step - loss: 0.0955 - mean_squared_error: 0.0955\n",
      "Epoch 3/50\n",
      "81/81 [==============================] - 0s 522us/step - loss: 0.0589 - mean_squared_error: 0.0589\n",
      "Epoch 4/50\n",
      "81/81 [==============================] - 0s 492us/step - loss: 0.0404 - mean_squared_error: 0.0404\n",
      "Epoch 5/50\n",
      "81/81 [==============================] - 0s 473us/step - loss: 0.0285 - mean_squared_error: 0.0285\n",
      "Epoch 6/50\n",
      "81/81 [==============================] - 0s 470us/step - loss: 0.0198 - mean_squared_error: 0.0198\n",
      "Epoch 7/50\n",
      "81/81 [==============================] - 0s 490us/step - loss: 0.0141 - mean_squared_error: 0.0141\n",
      "Epoch 8/50\n",
      "81/81 [==============================] - 0s 512us/step - loss: 0.0102 - mean_squared_error: 0.0102\n",
      "Epoch 9/50\n",
      "81/81 [==============================] - 0s 492us/step - loss: 0.0072 - mean_squared_error: 0.0072\n",
      "Epoch 10/50\n",
      "81/81 [==============================] - 0s 515us/step - loss: 0.0058 - mean_squared_error: 0.0058\n",
      "Epoch 11/50\n",
      "81/81 [==============================] - 0s 478us/step - loss: 0.0039 - mean_squared_error: 0.0039\n",
      "Epoch 12/50\n",
      "81/81 [==============================] - 0s 487us/step - loss: 0.0043 - mean_squared_error: 0.0043\n",
      "Epoch 13/50\n",
      "81/81 [==============================] - 0s 468us/step - loss: 0.0035 - mean_squared_error: 0.0035\n",
      "Epoch 14/50\n",
      "81/81 [==============================] - 0s 477us/step - loss: 0.0014 - mean_squared_error: 0.0014\n",
      "Epoch 15/50\n",
      "81/81 [==============================] - 0s 454us/step - loss: 0.0026 - mean_squared_error: 0.0026\n",
      "Epoch 16/50\n",
      "81/81 [==============================] - 0s 525us/step - loss: 0.0032 - mean_squared_error: 0.0032\n",
      "Epoch 17/50\n",
      "81/81 [==============================] - 0s 507us/step - loss: 0.0014 - mean_squared_error: 0.0014\n",
      "Epoch 18/50\n",
      "81/81 [==============================] - 0s 491us/step - loss: 7.2419e-04 - mean_squared_error: 7.2419e-04\n",
      "Epoch 19/50\n",
      "81/81 [==============================] - 0s 498us/step - loss: 0.0017 - mean_squared_error: 0.0017  \n",
      "Epoch 20/50\n",
      "81/81 [==============================] - 0s 501us/step - loss: 0.0019 - mean_squared_error: 0.0019\n",
      "Epoch 21/50\n",
      "81/81 [==============================] - 0s 490us/step - loss: 0.0023 - mean_squared_error: 0.0023\n",
      "Epoch 22/50\n",
      "81/81 [==============================] - 0s 482us/step - loss: 7.4792e-04 - mean_squared_error: 7.4792e-04\n",
      "Epoch 23/50\n",
      "81/81 [==============================] - 0s 494us/step - loss: 4.2780e-04 - mean_squared_error: 4.2780e-04\n",
      "Epoch 24/50\n",
      "81/81 [==============================] - 0s 483us/step - loss: 0.0015 - mean_squared_error: 0.0015  \n",
      "Epoch 25/50\n",
      "81/81 [==============================] - 0s 465us/step - loss: 0.0022 - mean_squared_error: 0.0022\n",
      "Epoch 26/50\n",
      "81/81 [==============================] - 0s 547us/step - loss: 0.0018 - mean_squared_error: 0.0018\n",
      "Epoch 27/50\n",
      "81/81 [==============================] - 0s 522us/step - loss: 1.3733e-04 - mean_squared_error: 1.3733e-04\n",
      "Epoch 28/50\n",
      "81/81 [==============================] - 0s 486us/step - loss: 1.5349e-04 - mean_squared_error: 1.5349e-04\n",
      "Epoch 29/50\n",
      "81/81 [==============================] - 0s 438us/step - loss: 0.0019 - mean_squared_error: 0.0019  \n",
      "Epoch 30/50\n",
      "81/81 [==============================] - 0s 427us/step - loss: 0.0026 - mean_squared_error: 0.0026\n",
      "Epoch 31/50\n",
      "81/81 [==============================] - 0s 441us/step - loss: 1.4852e-04 - mean_squared_error: 1.4852e-04\n",
      "Epoch 32/50\n",
      "81/81 [==============================] - 0s 432us/step - loss: 3.9174e-04 - mean_squared_error: 3.9174e-04\n",
      "Epoch 33/50\n",
      "81/81 [==============================] - 0s 445us/step - loss: 0.0024 - mean_squared_error: 0.0024  \n",
      "Epoch 34/50\n",
      "81/81 [==============================] - 0s 457us/step - loss: 6.9140e-04 - mean_squared_error: 6.9140e-04\n",
      "Epoch 35/50\n",
      "81/81 [==============================] - 0s 439us/step - loss: 7.3088e-04 - mean_squared_error: 7.3088e-04\n",
      "Epoch 36/50\n",
      "81/81 [==============================] - 0s 426us/step - loss: 0.0014 - mean_squared_error: 0.0014  \n",
      "Epoch 37/50\n",
      "81/81 [==============================] - 0s 432us/step - loss: 0.0014 - mean_squared_error: 0.0014  \n",
      "Epoch 38/50\n",
      "81/81 [==============================] - 0s 439us/step - loss: 0.0011 - mean_squared_error: 0.0011  \n",
      "Epoch 39/50\n",
      "81/81 [==============================] - 0s 449us/step - loss: 5.8086e-04 - mean_squared_error: 5.8086e-04\n",
      "Epoch 40/50\n",
      "81/81 [==============================] - 0s 463us/step - loss: 3.5635e-04 - mean_squared_error: 3.5635e-04\n",
      "Epoch 41/50\n",
      "81/81 [==============================] - 0s 476us/step - loss: 0.0027 - mean_squared_error: 0.0027  \n",
      "Epoch 42/50\n",
      "81/81 [==============================] - 0s 445us/step - loss: 8.2072e-04 - mean_squared_error: 8.2072e-04\n",
      "Epoch 43/50\n",
      "81/81 [==============================] - 0s 448us/step - loss: 1.4719e-04 - mean_squared_error: 1.4719e-04\n",
      "Epoch 44/50\n",
      "81/81 [==============================] - 0s 464us/step - loss: 0.0015 - mean_squared_error: 0.0015  \n",
      "Epoch 45/50\n",
      "81/81 [==============================] - 0s 446us/step - loss: 0.0016 - mean_squared_error: 0.0016  \n",
      "Epoch 46/50\n",
      "81/81 [==============================] - 0s 453us/step - loss: 9.4835e-04 - mean_squared_error: 9.4835e-04\n",
      "Epoch 47/50\n",
      "81/81 [==============================] - 0s 473us/step - loss: 0.0010 - mean_squared_error: 0.0010\n",
      "Epoch 48/50\n",
      "81/81 [==============================] - 0s 500us/step - loss: 9.6118e-04 - mean_squared_error: 9.6118e-04\n",
      "Epoch 49/50\n",
      "81/81 [==============================] - 0s 512us/step - loss: 8.4604e-04 - mean_squared_error: 8.4604e-04\n",
      "Epoch 50/50\n",
      "81/81 [==============================] - 0s 497us/step - loss: 4.8468e-04 - mean_squared_error: 4.8468e-04\n",
      "INFO:tensorflow:Assets written to: ./structured_data_regressor/best_model/assets\n"
     ]
    },
    {
     "name": "stderr",
     "output_type": "stream",
     "text": [
      "INFO:tensorflow:Assets written to: ./structured_data_regressor/best_model/assets\n"
     ]
    },
    {
     "data": {
      "text/plain": "<keras.src.callbacks.History at 0x2ffff6b10>"
     },
     "execution_count": 219,
     "metadata": {},
     "output_type": "execute_result"
    }
   ],
   "source": [
    "import autokeras as ak\n",
    "\n",
    "# Initialize AutoKeras regressor\n",
    "reg = ak.StructuredDataRegressor(max_trials=10)\n",
    "\n",
    "# Search for the best model architecture and hyperparameters\n",
    "reg.fit(X_train, y_train, epochs=50, batch_size=10)"
   ],
   "metadata": {
    "collapsed": false
   },
   "id": "fb87c0ec800aba50"
  },
  {
   "cell_type": "code",
   "execution_count": 221,
   "outputs": [
    {
     "name": "stderr",
     "output_type": "stream",
     "text": [
      "WARNING:absl:At this time, the v2.11+ optimizer `tf.keras.optimizers.RestoredOptimizer` runs slowly on M1/M2 Macs, please use the legacy Keras optimizer instead, located at `tf.keras.optimizers.legacy.RestoredOptimizer`.\n",
      "WARNING:absl:At this time, the v2.11+ optimizer `tf.keras.optimizers.Adam` runs slowly on M1/M2 Macs, please use the legacy Keras optimizer instead, located at `tf.keras.optimizers.legacy.Adam`.\n"
     ]
    },
    {
     "name": "stdout",
     "output_type": "stream",
     "text": [
      "INFO:tensorflow:Assets written to: trained_models/multiplication_memory/assets\n"
     ]
    },
    {
     "name": "stderr",
     "output_type": "stream",
     "text": [
      "INFO:tensorflow:Assets written to: trained_models/multiplication_memory/assets\n"
     ]
    }
   ],
   "source": [
    "best_model = reg.export_model()\n",
    "best_model.save(\"../trained_models/multiplication_memory\", save_format=\"tf\")"
   ],
   "metadata": {
    "collapsed": false,
    "ExecuteTime": {
     "end_time": "2024-01-05T22:43:15.736478Z",
     "start_time": "2024-01-05T22:43:14.546757Z"
    }
   },
   "id": "9e39f3ee6c71c93c"
  },
  {
   "cell_type": "code",
   "execution_count": null,
   "outputs": [],
   "source": [],
   "metadata": {
    "collapsed": false
   },
   "id": "a968d37291c85317"
  }
 ],
 "metadata": {
  "kernelspec": {
   "display_name": "Python 3",
   "language": "python",
   "name": "python3"
  },
  "language_info": {
   "codemirror_mode": {
    "name": "ipython",
    "version": 2
   },
   "file_extension": ".py",
   "mimetype": "text/x-python",
   "name": "python",
   "nbconvert_exporter": "python",
   "pygments_lexer": "ipython2",
   "version": "2.7.6"
  }
 },
 "nbformat": 4,
 "nbformat_minor": 5
}
