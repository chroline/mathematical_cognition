{
 "nbformat": 4,
 "nbformat_minor": 0,
 "metadata": {
  "colab": {
   "provenance": []
  },
  "kernelspec": {
   "name": "python3",
   "language": "python",
   "display_name": "Python 3 (ipykernel)"
  },
  "language_info": {
   "name": "python"
  }
 },
 "cells": [
  {
   "cell_type": "code",
   "execution_count": null,
   "metadata": {
    "colab": {
     "base_uri": "https://localhost:8080/"
    },
    "id": "BT25eltF6DPB",
    "outputId": "1c1a2d03-0176-4625-beb1-df81a3ea67ef"
   },
   "outputs": [],
   "source": [
    "import numpy as np\n",
    "import tensorflow as tf\n",
    "from sklearn.model_selection import train_test_split\n",
    "\n",
    "\n",
    "def generate_data(num_samples=10000):\n",
    "    X = np.random.randint(1, 20, size=(num_samples, 1))  # Generate random numbers\n",
    "    y = np.where(X >= 10, 1, 0)  # Set 1 if X >= 10, otherwise 0 for each sample\n",
    "    return X, y\n",
    "\n",
    "\n",
    "X, y = generate_data()\n",
    "\n",
    "X_train, X_test, y_train, y_test = train_test_split(X, y, test_size=0.2, random_state=42)\n",
    "\n",
    "model = tf.keras.Sequential([\n",
    "    tf.keras.layers.Input(shape=(1,)),\n",
    "    tf.keras.layers.Dense(1, activation='sigmoid')\n",
    "])\n",
    "\n",
    "model.compile(optimizer='adam', loss='binary_crossentropy', metrics=['accuracy'])\n",
    "\n",
    "\n",
    "class AccuracyCallback(tf.keras.callbacks.Callback):\n",
    "    def on_epoch_end(self, epoch, logs=None):\n",
    "        if logs.get('val_accuracy') >= 0.99 and logs.get('val_loss') <= 0.05:\n",
    "            print(\"\\nReached accuracy threshold, stopping training.\")\n",
    "            self.model.stop_training = True\n",
    "\n",
    "\n",
    "model.fit(X_train, y_train, epochs=500, batch_size=50, validation_split=0.2, callbacks=[AccuracyCallback()])"
   ]
  },
  {
   "cell_type": "code",
   "source": [
    "import matplotlib.pyplot as plt\n",
    "\n",
    "# Create a range of numbers for visualization\n",
    "x_values = tf.convert_to_tensor(np.arange(0, 20, 1))\n",
    "y_values = model.predict(x_values)\n",
    "\n",
    "plt.plot(x_values, y_values, label='Decision Boundary')\n",
    "plt.scatter(X, y, c=y, cmap='viridis', edgecolors='k', marker='o', s=50, linewidth=1)\n",
    "plt.title('Neural Network Decision Boundary for Digit Classification')\n",
    "plt.xlabel('Number')\n",
    "plt.ylabel('Predicted Probability (>= 10)')\n",
    "plt.legend()\n",
    "plt.show()"
   ],
   "metadata": {
    "colab": {
     "base_uri": "https://localhost:8080/",
     "height": 490
    },
    "id": "VaRTB6AvGOeO",
    "outputId": "fe3237d2-5613-440e-e97f-668c81a7c29b"
   },
   "execution_count": null,
   "outputs": []
  },
  {
   "cell_type": "code",
   "execution_count": null,
   "outputs": [],
   "source": [
    "model.save(\"../trained_models/digits_classifier\", save_format=\"tf\")"
   ],
   "metadata": {
    "collapsed": false
   }
  }
 ]
}
