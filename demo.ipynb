{
 "cells": [
  {
   "cell_type": "code",
   "outputs": [],
   "source": [
    "from program.routers import MultiplicationRouter\n",
    "\n",
    "num1 = int(input(\"NUM1: \"))\n",
    "num2 = int(input(\"NUM2: \"))\n",
    "\n",
    "print(f\"{num1}*{num2} should equal {num1 * num2}\")\n",
    "\n",
    "router = MultiplicationRouter(num1, num2)\n",
    "result = router.exec()\n",
    "\n",
    "print(f\"{num1}*{num2} = {result}\")"
   ],
   "metadata": {
    "collapsed": false
   },
   "id": "ebd5700f454c4b6b",
   "execution_count": null
  },
  {
   "cell_type": "code",
   "execution_count": null,
   "id": "initial_id",
   "metadata": {
    "collapsed": true
   },
   "outputs": [],
   "source": [
    "letter = 'A'\n",
    "\n",
    "\n",
    "def increment_sequence(s):\n",
    "    s = s.upper()\n",
    "\n",
    "    incremented_str = \"\"\n",
    "    carry = 1\n",
    "    for char in reversed(s):\n",
    "        if carry:\n",
    "            new_ord = ord(char) + 1\n",
    "            carry = new_ord > ord('Z')\n",
    "            char = chr((new_ord - ord('A')) % 26 + ord('A'))\n",
    "        incremented_str = char + incremented_str\n",
    "\n",
    "    if carry:\n",
    "        incremented_str = \"A\" + incremented_str\n",
    "\n",
    "    return incremented_str\n",
    "\n",
    "\n",
    "def dict_to_mermaid(data, parent='A'):\n",
    "    mermaid_code = \"\"\n",
    "\n",
    "    if isinstance(data, dict):\n",
    "        for key1, value1 in data.items():\n",
    "            if isinstance(value1, dict):\n",
    "                for key2, value2 in value1.items():\n",
    "                    global letter\n",
    "                    letter = increment_sequence(letter)\n",
    "                    mermaid_code += f\"  {parent}[\\\"{key1}\\\"] --> |\\\"{key2}\\\"| {letter}[\\\"{key2}\\\"]\\n\"\n",
    "                    mermaid_code += dict_to_mermaid(value2, letter)\n",
    "            else:\n",
    "                letter = increment_sequence(letter)\n",
    "                mermaid_code += f\"  {parent}[\\\"{key1}\\\"] --> {letter}[\\\"{value1}\\\"]\\n\"\n",
    "\n",
    "    return mermaid_code"
   ]
  },
  {
   "cell_type": "code",
   "outputs": [],
   "source": [
    "from IPython.core.display import Image\n",
    "import base64\n",
    "\n",
    "graphbytes = f\"\"\"\\\n",
    "    graph LR;\n",
    "    {dict_to_mermaid(router.equation)}\n",
    "    \"\"\".encode(\"utf8\")\n",
    "base64_bytes = base64.b64encode(graphbytes)\n",
    "base64_string = base64_bytes.decode(\"ascii\")\n",
    "display(Image(url=\"https://mermaid.ink/img/\" + base64_string))"
   ],
   "metadata": {
    "collapsed": false
   },
   "id": "63d79e2b61c08c1f",
   "execution_count": null
  },
  {
   "cell_type": "code",
   "outputs": [],
   "source": [
    "result"
   ],
   "metadata": {
    "collapsed": false
   },
   "id": "c43df5baf3e94680",
   "execution_count": null
  }
 ],
 "metadata": {
  "kernelspec": {
   "display_name": "Python 3",
   "language": "python",
   "name": "python3"
  },
  "language_info": {
   "codemirror_mode": {
    "name": "ipython",
    "version": 2
   },
   "file_extension": ".py",
   "mimetype": "text/x-python",
   "name": "python",
   "nbconvert_exporter": "python",
   "pygments_lexer": "ipython2",
   "version": "2.7.6"
  }
 },
 "nbformat": 4,
 "nbformat_minor": 5
}
